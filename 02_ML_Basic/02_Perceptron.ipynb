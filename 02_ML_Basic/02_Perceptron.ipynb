{
 "cells": [
  {
   "cell_type": "code",
   "execution_count": null,
   "metadata": {
    "id": "iDsSgH7kNp47"
   },
   "outputs": [],
   "source": [
    "import numpy as np"
   ]
  },
  {
   "cell_type": "markdown",
   "metadata": {
    "id": "o34Nw9trPdU0"
   },
   "source": [
    "##OR Gate##"
   ]
  },
  {
   "cell_type": "code",
   "execution_count": null,
   "metadata": {
    "id": "0tC0sGN4NM40"
   },
   "outputs": [],
   "source": [
    "def OR(x1, x2):\n",
    "  x = np.array([x1, x2])\n",
    "  w = np.array([0.5, 0.5])\n",
    "  b = -0.2\n",
    "  tmp = np.sum(w*x) + b\n",
    "  #print(x1, x2, tmp)\n",
    "  if tmp <= 0 :\n",
    "    return 0\n",
    "  else:\n",
    "    return 1"
   ]
  },
  {
   "cell_type": "code",
   "execution_count": null,
   "metadata": {
    "id": "RHtsO-tcOLk2"
   },
   "outputs": [],
   "source": [
    "OR(1,0)"
   ]
  },
  {
   "cell_type": "code",
   "execution_count": null,
   "metadata": {
    "id": "0p7UUIMjOcc2"
   },
   "outputs": [],
   "source": [
    "OR(0.4,0)"
   ]
  },
  {
   "cell_type": "code",
   "execution_count": null,
   "metadata": {
    "id": "ate6gWGoPP9K"
   },
   "outputs": [],
   "source": [
    ""
   ]
  },
  {
   "cell_type": "code",
   "execution_count": null,
   "metadata": {
    "id": "mrXNefQXOu1K"
   },
   "outputs": [],
   "source": [
    "OR(0.401,0)"
   ]
  }
 ],
 "metadata": {
  "colab": {
   "authorship_tag": "ABX9TyPzNsNoR3S44Du1m7AM/zpL",
   "name": "02_Perceptron.ipynb",
   "private_outputs": true,
   "provenance": []
  },
  "kernelspec": {
   "display_name": "Python 3",
   "name": "python3"
  }
 },
 "nbformat": 4,
 "nbformat_minor": 0
}
