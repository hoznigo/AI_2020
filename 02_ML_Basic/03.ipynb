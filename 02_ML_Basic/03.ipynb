{
  "nbformat": 4,
  "nbformat_minor": 0,
  "metadata": {
    "colab": {
      "name": "03_1_Activation_Function_v1.ipynb",
      "provenance": [],
      "private_outputs": true,
      "authorship_tag": "ABX9TyNbpHhwjTw05Ht8sZL/Ph9N",
      "include_colab_link": true
    },
    "kernelspec": {
      "name": "python3",
      "display_name": "Python 3"
    }
  },
  "cells": [
    {
      "cell_type": "markdown",
      "metadata": {
        "id": "view-in-github",
        "colab_type": "text"
      },
      "source": [
        "<a href=\"https://colab.research.google.com/github/hoznigo/AI_2020/blob/master/03_1_Activation_Function_v1.ipynb\" target=\"_parent\"><img src=\"https://colab.research.google.com/assets/colab-badge.svg\" alt=\"Open In Colab\"/></a>"
      ]
    },
    {
      "cell_type": "code",
      "metadata": {
        "id": "Hn4F0QYCYvIK"
      },
      "source": [
        "import numpy as np\n",
        "import matplotlib.pylab as plt"
      ],
      "execution_count": null,
      "outputs": []
    },
    {
      "cell_type": "markdown",
      "metadata": {
        "id": "AhF8f9BLZ3R_"
      },
      "source": [
        "##Sigmoid"
      ]
    },
    {
      "cell_type": "markdown",
      "metadata": {
        "id": "9zbJNkUdaEKf"
      },
      "source": [
        "$$sigmoid(x) = \\frac{1}{1+exp(-x)}$$"
      ]
    },
    {
      "cell_type": "markdown",
      "metadata": {
        "id": "9amQZ3jdaZ2J"
      },
      "source": [
        "$$sigmoid(x) = \\frac{1}{1+e^{-x}}$$"
      ]
    },
    {
      "cell_type": "code",
      "metadata": {
        "id": "h9AezGfCaXCl"
      },
      "source": [
        "def my_sigmoid(x):\n",
        "  return 1 / (1+np.exp(-x))"
      ],
      "execution_count": null,
      "outputs": []
    },
    {
      "cell_type": "markdown",
      "metadata": {
        "id": "rSWQwmyAa0mN"
      },
      "source": [
        "##Hyperbolic Tangent"
      ]
    },
    {
      "cell_type": "markdown",
      "metadata": {
        "id": "qK-WtKV5a7lA"
      },
      "source": [
        "$$tanh(x) = \\frac{1 - e^{-x}}{1 + e^{-x}}$$$$= \\frac{2}{1 +e^{-2x}}-1 = 2 \\times sigmoid(2x) -1$$"
      ]
    },
    {
      "cell_type": "code",
      "metadata": {
        "id": "61qLC1vda54S"
      },
      "source": [
        "def my_tanh(x):\n",
        "  return 2* my_sigmoid(2 *x) -1"
      ],
      "execution_count": null,
      "outputs": []
    },
    {
      "cell_type": "markdown",
      "metadata": {
        "id": "woZbvWDyeTo4"
      },
      "source": [
        "##Step fuction"
      ]
    },
    {
      "cell_type": "code",
      "metadata": {
        "id": "QTO3ymn6eYfv"
      },
      "source": [
        "def my_step(x):\n",
        "  return np.array(x>0, dtype = np.int)\n",
        "  \n",
        "  \n",
        "  \n",
        "  \n",
        "  #if x<0:\n",
        "    #return 0\n",
        "  #else:\n",
        "    #return 1"
      ],
      "execution_count": null,
      "outputs": []
    },
    {
      "cell_type": "markdown",
      "metadata": {
        "id": "McLddVe8ksX8"
      },
      "source": [
        "##ReLU\n"
      ]
    },
    {
      "cell_type": "code",
      "metadata": {
        "id": "EkAtu8kZk4jx"
      },
      "source": [
        "def my_relu(x):\n",
        "  return np.maximum(0, x)"
      ],
      "execution_count": null,
      "outputs": []
    },
    {
      "cell_type": "code",
      "metadata": {
        "id": "hA2nWyIKlOQz"
      },
      "source": [
        "def my_relu2(x):\n",
        "  return x * (x > 0)"
      ],
      "execution_count": null,
      "outputs": []
    },
    {
      "cell_type": "markdown",
      "metadata": {
        "id": "n7M6h70gcKv_"
      },
      "source": [
        "##Test"
      ]
    },
    {
      "cell_type": "code",
      "metadata": {
        "id": "gyjN8NEzcMDN"
      },
      "source": [
        "x = np.arange(-5, 5, 0.1)"
      ],
      "execution_count": null,
      "outputs": []
    },
    {
      "cell_type": "code",
      "metadata": {
        "id": "fi8vlt-3cSc9"
      },
      "source": [
        "y1 = my_sigmoid(x)\n",
        "y2 = my_tanh(x)\n",
        "y3 = my_step(x)\n",
        "y4 = my_relu(x)\n",
        "y5 = my_relu2(x)"
      ],
      "execution_count": null,
      "outputs": []
    },
    {
      "cell_type": "code",
      "metadata": {
        "id": "axTTsBZVdrU6"
      },
      "source": [
        "plt.plot(x, y1)\n",
        "plt.plot(x, y2)\n",
        "plt.plot(x, y3)\n",
        "plt.plot(x, y4)\n",
        "plt.plot(x, y5)\n",
        "plt.legend(['sigmoid', 'tanh'])\n",
        "plt.grid()"
      ],
      "execution_count": null,
      "outputs": []
    }
  ]
}
