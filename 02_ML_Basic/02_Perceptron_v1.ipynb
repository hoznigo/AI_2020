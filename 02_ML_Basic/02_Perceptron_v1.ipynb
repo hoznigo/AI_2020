{
 "cells": [
  {
   "cell_type": "code",
   "execution_count": null,
   "metadata": {
    "id": "k1mWTSV0Q21z"
   },
   "outputs": [],
   "source": [
    "import numpy as np"
   ]
  },
  {
   "cell_type": "code",
   "execution_count": null,
   "metadata": {
    "id": "y8PZTm2mRIGs"
   },
   "outputs": [],
   "source": [
    "def AND(x1, x2):\n",
    "  x = np.array([x1, x2])\n",
    "  w = np.array([0.5, 0.5])\n",
    "  b = -0.7\n",
    "  tmp = np.sum(w*x) + b #\"tmp = x[0]*w[0] + x[1]*w[1] + b\"와 같음\n",
    "  if tmp <= 0:\n",
    "    return 0\n",
    "  else:\n",
    "    return 1"
   ]
  },
  {
   "cell_type": "code",
   "execution_count": null,
   "metadata": {
    "id": "oG506DnuRi1Y"
   },
   "outputs": [],
   "source": [
    "AND(1, 1), AND(0, 0), AND(1,0), AND(0,1)"
   ]
  },
  {
   "cell_type": "code",
   "execution_count": null,
   "metadata": {
    "id": "qZH0AThPSNQP"
   },
   "outputs": [],
   "source": [
    "def NAND(x1, x2):\n",
    "  x = np.array([x1, x2])\n",
    "  w = np.array([-0.5, -0.5])\n",
    "  b = 0.7\n",
    "  tmp = np.sum(w*x) + b\n",
    "  if tmp <= 0:\n",
    "    return 0\n",
    "  else:\n",
    "    return 1"
   ]
  },
  {
   "cell_type": "code",
   "execution_count": null,
   "metadata": {
    "id": "FT4uTaDfSwNl"
   },
   "outputs": [],
   "source": [
    "NAND(1, 1), NAND(0, 0), NAND(1,0), NAND(0,1)"
   ]
  },
  {
   "cell_type": "code",
   "execution_count": null,
   "metadata": {
    "id": "6fQDpXK2S1zx"
   },
   "outputs": [],
   "source": [
    "def OR(x1, x2):\n",
    "  x = np.array([x1, x2])\n",
    "  w = np.array([0.5, 0.5])\n",
    "  b = -0.2\n",
    "  tmp = x[0]*w[0] + x[1]*w[1] + b\n",
    "  if tmp <= 0:\n",
    "    return 0\n",
    "  else:\n",
    "    return 1"
   ]
  },
  {
   "cell_type": "code",
   "execution_count": null,
   "metadata": {
    "id": "tynvwuG8TYyc"
   },
   "outputs": [],
   "source": [
    "OR(1, 1), OR(0, 0), OR(1,0), OR(0,1)"
   ]
  },
  {
   "cell_type": "code",
   "execution_count": null,
   "metadata": {
    "id": "x2o41cNWTh9F"
   },
   "outputs": [],
   "source": [
    "def XOR(x1, x2):\n",
    "  s1 = NAND(x1, x2)\n",
    "  s2 = OR(x1, x2)\n",
    "  y = AND(s1, s2)\n",
    "  return y"
   ]
  },
  {
   "cell_type": "code",
   "execution_count": null,
   "metadata": {
    "id": "OCgMbl8eT7xB"
   },
   "outputs": [],
   "source": [
    "XOR(1, 1), XOR(0, 0), XOR(1,0), XOR(0,1)"
   ]
  },
  {
   "cell_type": "markdown",
   "metadata": {
    "id": "8NmVD1GxUuOe"
   },
   "source": [
    "TODO : Markdown 문법을 이용해서 아래 myOR gate의 그림을 넣어주세요.\n",
    "\n",
    "![XOR][img]\n",
    "\n",
    "[img]: https://lh3.googleusercontent.com/proxy/wMFMElxi8S4CRWg87jUyHlKikMOb3rO0GpmkSfy8drUY7C0wB1n5NC2jAAemj6BVUcQas9IOnIJBCHSZi3DrG4MhkBHVlOe_VY6PvFSkSD75kB_ck4jc8Ed53SyAj84qbJUYwZmq6XlV14TYpB6QkVrm4cANIknNTUa7FMSJ82fjvMi5HEuZdDRXsZklmnigVgmZZjesR4lblStJmhHeXbvbaYnUdJrNK9wT10Rasknws3Cdq4FZZXlzjDo9V-yV7rGIxBnjSau5PqINcnJcXHcakdG0Liq15ue45lZ9A2wEbfMt_4Z5cg \"Image of XOR gate\""
   ]
  },
  {
   "cell_type": "code",
   "execution_count": null,
   "metadata": {
    "id": "jkW8BzOqUBjJ"
   },
   "outputs": [],
   "source": [
    "def myOR(x1, x2):\n",
    "  s1 = NAND(x1,x1)\n",
    "  s2 = NAND(x2,x2)\n",
    "  y = NAND(s1, s2)\n",
    "  return y"
   ]
  },
  {
   "cell_type": "code",
   "execution_count": null,
   "metadata": {
    "id": "45KZfu_dUeYj"
   },
   "outputs": [],
   "source": [
    "myOR(1, 1), myOR(0, 0), myOR(1,0), myOR(0,1)"
   ]
  }
 ],
 "metadata": {
  "colab": {
   "authorship_tag": "ABX9TyM2LnyXzMX7cOIa/5ZuKpvW",
   "name": "02_Perceptron_v1.ipynb",
   "private_outputs": true,
   "provenance": []
  },
  "kernelspec": {
   "display_name": "Python 3",
   "name": "python3"
  }
 },
 "nbformat": 4,
 "nbformat_minor": 0
}
