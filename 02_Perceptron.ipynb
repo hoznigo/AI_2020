{
  "nbformat": 4,
  "nbformat_minor": 0,
  "metadata": {
    "colab": {
      "name": "02_Perceptron.ipynb",
      "provenance": [],
      "private_outputs": true,
      "authorship_tag": "ABX9TyPzNsNoR3S44Du1m7AM/zpL",
      "include_colab_link": true
    },
    "kernelspec": {
      "name": "python3",
      "display_name": "Python 3"
    }
  },
  "cells": [
    {
      "cell_type": "markdown",
      "metadata": {
        "id": "view-in-github",
        "colab_type": "text"
      },
      "source": [
        "<a href=\"https://colab.research.google.com/github/hoznigo/AI_2020/blob/master/02_Perceptron.ipynb\" target=\"_parent\"><img src=\"https://colab.research.google.com/assets/colab-badge.svg\" alt=\"Open In Colab\"/></a>"
      ]
    },
    {
      "cell_type": "code",
      "metadata": {
        "id": "iDsSgH7kNp47"
      },
      "source": [
        "import numpy as np"
      ],
      "execution_count": null,
      "outputs": []
    },
    {
      "cell_type": "markdown",
      "metadata": {
        "id": "o34Nw9trPdU0"
      },
      "source": [
        "##OR Gate##"
      ]
    },
    {
      "cell_type": "code",
      "metadata": {
        "id": "0tC0sGN4NM40"
      },
      "source": [
        "def OR(x1, x2):\n",
        "  x = np.array([x1, x2])\n",
        "  w = np.array([0.5, 0.5])\n",
        "  b = -0.2\n",
        "  tmp = np.sum(w*x) + b\n",
        "  #print(x1, x2, tmp)\n",
        "  if tmp <= 0 :\n",
        "    return 0\n",
        "  else:\n",
        "    return 1"
      ],
      "execution_count": null,
      "outputs": []
    },
    {
      "cell_type": "code",
      "metadata": {
        "id": "RHtsO-tcOLk2"
      },
      "source": [
        "OR(1,0)"
      ],
      "execution_count": null,
      "outputs": []
    },
    {
      "cell_type": "code",
      "metadata": {
        "id": "0p7UUIMjOcc2"
      },
      "source": [
        "OR(0.4,0)"
      ],
      "execution_count": null,
      "outputs": []
    },
    {
      "cell_type": "code",
      "metadata": {
        "id": "ate6gWGoPP9K"
      },
      "source": [
        ""
      ],
      "execution_count": null,
      "outputs": []
    },
    {
      "cell_type": "code",
      "metadata": {
        "id": "mrXNefQXOu1K"
      },
      "source": [
        "OR(0.401,0)"
      ],
      "execution_count": null,
      "outputs": []
    }
  ]
}