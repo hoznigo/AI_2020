{
 "cells": [
  {
   "cell_type": "markdown",
   "metadata": {
    "id": "AD0BYIKyPbCA"
   },
   "source": [
    "**라이브러리 Import 하기**"
   ]
  },
  {
   "cell_type": "code",
   "execution_count": null,
   "metadata": {
    "id": "liTLiTbgOWuW"
   },
   "outputs": [],
   "source": [
    "import tensorflow.compat.v1 as tf\n",
    "tf.disable_v2_behavior()\n",
    "\n",
    "import numpy as np\n",
    "import matplotlib.pyplot as plt"
   ]
  },
  {
   "cell_type": "markdown",
   "metadata": {
    "id": "5mMg3ucfPwAt"
   },
   "source": [
    "** X and Y data**"
   ]
  },
  {
   "cell_type": "code",
   "execution_count": null,
   "metadata": {
    "id": "diGhDJ-jPzrH"
   },
   "outputs": [],
   "source": [
    "x_train = [1, 2, 3]\n",
    "\n",
    "y_train = [2+0.1, 4-0.3, 6+0.15]"
   ]
  },
  {
   "cell_type": "code",
   "execution_count": null,
   "metadata": {
    "id": "p2ILSiLOQJCO"
   },
   "outputs": [],
   "source": [
    "plt.plot(x_train, y_train,'.-')\n",
    "plt.grid() #칸쳐주는 명령어"
   ]
  },
  {
   "cell_type": "code",
   "execution_count": null,
   "metadata": {
    "id": "zvmUfOKBQQyM"
   },
   "outputs": [],
   "source": [
    "x_train = [2, 4, 6]\n",
    "\n",
    "y_trian = [3, 5, 7]"
   ]
  },
  {
   "cell_type": "code",
   "execution_count": null,
   "metadata": {
    "id": "lzD8Hh4MQjVg"
   },
   "outputs": [],
   "source": [
    "plt.plot(x_train, y_train,',-')\n",
    "plt.grid()"
   ]
  },
  {
   "cell_type": "code",
   "execution_count": null,
   "metadata": {
    "id": "TxuHRlT_RLYl"
   },
   "outputs": [],
   "source": [
    "x_train = [1, 3, 5, 7, 9]\n",
    "y_train = [2, 4, 6, 8, 10] #y = x + 1\n",
    "signal_length = len(x_train)\n",
    "y_noise = np.random.normal(0, 1, signal_length)\n",
    "\n",
    "y_trian = y_train + y_noise"
   ]
  },
  {
   "cell_type": "code",
   "execution_count": null,
   "metadata": {
    "id": "uwEAUbgsRwBz"
   },
   "outputs": [],
   "source": [
    "plt.plot(x_train, y_train,',-')\n",
    "plt.grid()"
   ]
  },
  {
   "cell_type": "markdown",
   "metadata": {
    "id": "NJkf5_QfSLOH"
   },
   "source": [
    "**Initalization**"
   ]
  },
  {
   "cell_type": "code",
   "execution_count": null,
   "metadata": {
    "id": "3dQKpGFlbKVh"
   },
   "outputs": [],
   "source": [
    "useRandom = False"
   ]
  },
  {
   "cell_type": "code",
   "execution_count": null,
   "metadata": {
    "id": "e0p3bUOPSK5a"
   },
   "outputs": [],
   "source": [
    "if useRandom:\n",
    "  w = tf.Variable(tf.random_normal([1]), name = 'weight')\n",
    "  b = tf.Variable(tf.random_normal([1]), name = 'bias')\n",
    "\n",
    "else:\n",
    "  w0 = 8.0;\n",
    "  b0 = 4.0;\n",
    "\n",
    "  w = tf.Variable(w0*tf.ones([1]), name = 'weight')\n",
    "  b = tf.Variable(b0*tf.ones([1]), name = 'bias')"
   ]
  },
  {
   "cell_type": "markdown",
   "metadata": {
    "id": "PkC7yUZwTKLu"
   },
   "source": [
    "**Our hypothesis xw+b**\n",
    "$$ H(x) = Wx + b $$"
   ]
  },
  {
   "cell_type": "code",
   "execution_count": null,
   "metadata": {
    "id": "1vvE69y4TYck"
   },
   "outputs": [],
   "source": [
    "hypothesis = x_train * w + b"
   ]
  },
  {
   "cell_type": "markdown",
   "metadata": {
    "id": "wuaaCzO-Th3L"
   },
   "source": [
    "**cost/loss function 설정하기**\n",
    "\n",
    "$$loss = \\mathcal{L}(\\hat{y}, y) = (\\hat y^{(i)} - y^{(i)})^2 \\tag{1}$$"
   ]
  },
  {
   "cell_type": "code",
   "execution_count": null,
   "metadata": {
    "id": "Tb0NpexHVTRF"
   },
   "outputs": [],
   "source": [
    "loss = tf.reduce_mean(tf.square(hypothesis - y_train))"
   ]
  },
  {
   "cell_type": "markdown",
   "metadata": {
    "id": "cwwy0TEjVkP5"
   },
   "source": [
    "**Optimizer**"
   ]
  },
  {
   "cell_type": "code",
   "execution_count": null,
   "metadata": {
    "id": "LWgr4Am_Vmjb"
   },
   "outputs": [],
   "source": [
    "optimizer = tf.train.GradientDescentOptimizer(learning_rate=0.01)\n",
    "train = optimizer.minimize(loss)"
   ]
  },
  {
   "cell_type": "markdown",
   "metadata": {
    "id": "7Xt-fZsRV2Nr"
   },
   "source": [
    "**Launch the graph in a session**"
   ]
  },
  {
   "cell_type": "code",
   "execution_count": null,
   "metadata": {
    "id": "vfOENKQqV1ac"
   },
   "outputs": [],
   "source": [
    "sess = tf.Session()"
   ]
  },
  {
   "cell_type": "markdown",
   "metadata": {
    "id": "bjAqgg-qWCFc"
   },
   "source": [
    "**Initializes global variables in the graph**"
   ]
  },
  {
   "cell_type": "code",
   "execution_count": null,
   "metadata": {
    "id": "p1T3AkdEWJAW"
   },
   "outputs": [],
   "source": [
    "sess.run(tf.global_variables_initializer())"
   ]
  },
  {
   "cell_type": "code",
   "execution_count": null,
   "metadata": {
    "id": "0U-o8DsUWOxr"
   },
   "outputs": [],
   "source": [
    "nb_epoch = 2600\n",
    "vloss = []\n",
    "vb = []\n",
    "vw = []\n",
    "\n",
    "for step in range(nb_epoch):\n",
    "  sess.run(train)\n",
    "  loss1 = sess.run(loss)\n",
    "  vloss.append(loss1)\n",
    "\n",
    "  if step % 5 == 0: #200번마다\n",
    "    w1 = sess.run(w)[0]\n",
    "    b1 = sess.run(b)[0]\n",
    "    \n",
    "    print(step,'\\t', loss1,'\\t', w1,'\\t', b1)"
   ]
  },
  {
   "cell_type": "code",
   "execution_count": null,
   "metadata": {
    "id": "0bW9MwRiYCey"
   },
   "outputs": [],
   "source": [
    "plt.plot(vloss[:10], '.-')\n",
    "plt.xlabel('epoch')\n",
    "plt.ylabel('loss')"
   ]
  },
  {
   "cell_type": "markdown",
   "metadata": {
    "id": "zef-XVkgcF4M"
   },
   "source": [
    "**Todo : w, b의 epoch에 따른 변화 그래프 넣기**"
   ]
  },
  {
   "cell_type": "code",
   "execution_count": null,
   "metadata": {
    "id": "m1nAOMwicuZT"
   },
   "outputs": [],
   "source": [
    "nb_epoch = 5060\n",
    "vloss = []\n",
    "vb = []\n",
    "vw = []\n",
    "\n",
    "for step in range(nb_epoch):\n",
    "  sess.run(train)\n",
    "  loss1 = sess.run(loss)\n",
    "  vloss.append(loss1)\n",
    "\n",
    "  if step % 100 == 0: #200번마다\n",
    "    w1 = sess.run(w)[0]\n",
    "    b1 = sess.run(b)[0]\n",
    "    \n",
    "    print(step,'\\t', loss1,'\\t', w1,'\\t', b1)"
   ]
  },
  {
   "cell_type": "code",
   "execution_count": null,
   "metadata": {
    "id": "ApMGn9chdPNy"
   },
   "outputs": [],
   "source": [
    "plt.plot(vloss[:10], '.-')\n",
    "plt.xlabel('epoch')\n",
    "plt.ylabel('loss')"
   ]
  },
  {
   "cell_type": "markdown",
   "metadata": {
    "id": "f-YpZDxaW5Yk"
   },
   "source": [
    "**학습완료**"
   ]
  },
  {
   "cell_type": "code",
   "execution_count": null,
   "metadata": {
    "id": "SUJApf1iW5iK"
   },
   "outputs": [],
   "source": [
    "w1 = sess.run(w)[0]\n",
    "b1 = sess.run(b)[0]"
   ]
  },
  {
   "cell_type": "markdown",
   "metadata": {
    "id": "gDF9v1Z2XX_s"
   },
   "source": [
    "**출력해보기**"
   ]
  },
  {
   "cell_type": "code",
   "execution_count": null,
   "metadata": {
    "id": "mw2ukpsJXZrg"
   },
   "outputs": [],
   "source": [
    "print(w1, b1)"
   ]
  },
  {
   "cell_type": "code",
   "execution_count": null,
   "metadata": {
    "id": "znOINoDyZIEM"
   },
   "outputs": [],
   "source": [
    "strl = 'y = ' + str(w1) + ' x +' + str(b1)\n",
    "print(strl)"
   ]
  },
  {
   "cell_type": "code",
   "execution_count": null,
   "metadata": {
    "id": "O4J40QUAZXsr"
   },
   "outputs": [],
   "source": [
    "plt.figure(figsize = (8,2))\n",
    "plt.plot(x_train, y_train, 'o')\n",
    "\n",
    "x1 = np.linspace(np.min(x_train)-1, np.max(x_train)+1)\n",
    "y1 = w1 * x1 + b1\n",
    "plt.plot(x1, y1)\n",
    "\n",
    "plt.grid()\n",
    "plt.title(strl)"
   ]
  },
  {
   "cell_type": "code",
   "execution_count": null,
   "metadata": {
    "id": "UjjrkU9qeoK6"
   },
   "outputs": [],
   "source": [
    "#!sudo apt install pandoc texlive texlive-xetex (pdf 설치)"
   ]
  },
  {
   "cell_type": "code",
   "execution_count": null,
   "metadata": {
    "id": "GELLeNdLfFI7"
   },
   "outputs": [],
   "source": [
    "from google.colab import drive\n",
    "drive.mount(\"/content/drive\")"
   ]
  },
  {
   "cell_type": "code",
   "execution_count": null,
   "metadata": {
    "id": "_NIH3w6OgS2f"
   },
   "outputs": [],
   "source": [
    "!ls drive/'My Drive'/'Colab Notebooks'/'03_linear_regression.ipynb'"
   ]
  },
  {
   "cell_type": "code",
   "execution_count": null,
   "metadata": {
    "id": "3F8i-Vmng4HQ"
   },
   "outputs": [],
   "source": [
    "!jupyter nbconvert --to PDF 'drive/My Drive/Colab Notebooks/03_linear_regression.ipynb' 'drive/My Drive/Colab Notebooks/03_linear_regression.pdf'"
   ]
  }
 ],
 "metadata": {
  "colab": {
   "authorship_tag": "ABX9TyPzkdJIHonB4How29G4d25S",
   "collapsed_sections": [],
   "mount_file_id": "1sxqth2aGs3VOzvtMn_eB-IUnEUYvZQSg",
   "name": "03_linear_regression.ipynb",
   "private_outputs": true,
   "provenance": []
  },
  "kernelspec": {
   "display_name": "Python 3",
   "name": "python3"
  }
 },
 "nbformat": 4,
 "nbformat_minor": 0
}
