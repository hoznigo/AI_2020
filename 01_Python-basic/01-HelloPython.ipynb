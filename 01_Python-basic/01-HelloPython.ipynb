{
 "cells": [
  {
   "cell_type": "markdown",
   "metadata": {
    "id": "jVJfkV5b1z8h"
   },
   "source": [
    "####**Hello World!**"
   ]
  },
  {
   "cell_type": "code",
   "execution_count": null,
   "metadata": {
    "colab": {
     "base_uri": "https://localhost:8080/",
     "height": 52
    },
    "id": "Wjzj7XDR0qdS",
    "outputId": "d023c0f6-5678-4028-e931-cca8c4e08a3f"
   },
   "outputs": [
    {
     "name": "stdout",
     "output_type": "stream",
     "text": [
      "Hello World\n",
      "Hello World 2 + 3 = 5\n"
     ]
    }
   ],
   "source": [
    "print('Hello World')\n",
    "print('Hello World {} + {} = {}'.format(2,3, 2+3))"
   ]
  },
  {
   "cell_type": "markdown",
   "metadata": {
    "id": "jygPQyd92PNZ"
   },
   "source": []
  },
  {
   "cell_type": "markdown",
   "metadata": {
    "id": "l4UPzbfj2PRO"
   },
   "source": [
    "####**Basic data types**"
   ]
  },
  {
   "cell_type": "code",
   "execution_count": null,
   "metadata": {
    "colab": {
     "base_uri": "https://localhost:8080/",
     "height": 52
    },
    "id": "9K1JVCha2VsQ",
    "outputId": "44379632-4a16-4e72-bebc-0e5450d70af3"
   },
   "outputs": [
    {
     "name": "stdout",
     "output_type": "stream",
     "text": [
      "<class 'int'>\n",
      "3\n"
     ]
    }
   ],
   "source": [
    "x = 3\n",
    "print(type(x))\n",
    "print(x)"
   ]
  },
  {
   "cell_type": "code",
   "execution_count": null,
   "metadata": {
    "colab": {
     "base_uri": "https://localhost:8080/",
     "height": 87
    },
    "id": "xOwRQ3_s2fkO",
    "outputId": "95ee93e0-4dce-41ff-86cf-7d03cc34ac27"
   },
   "outputs": [
    {
     "name": "stdout",
     "output_type": "stream",
     "text": [
      "4\n",
      "2\n",
      "6\n",
      "9\n"
     ]
    }
   ],
   "source": [
    "print(x + 1)\n",
    "print(x - 1)\n",
    "print(x * 2)\n",
    "print(x ** 2)"
   ]
  },
  {
   "cell_type": "markdown",
   "metadata": {
    "id": "MHZk4wLj2vLq"
   },
   "source": [
    "####**For statement**"
   ]
  },
  {
   "cell_type": "code",
   "execution_count": null,
   "metadata": {
    "colab": {
     "base_uri": "https://localhost:8080/",
     "height": 34
    },
    "id": "iRPj17jr20Dp",
    "outputId": "0f2646f7-5823-4b07-9f35-c771d05fb607"
   },
   "outputs": [
    {
     "name": "stdout",
     "output_type": "stream",
     "text": [
      "range(0, 5)\n"
     ]
    }
   ],
   "source": [
    "A = range(5)\n",
    "print(A)"
   ]
  },
  {
   "cell_type": "code",
   "execution_count": null,
   "metadata": {
    "colab": {
     "base_uri": "https://localhost:8080/",
     "height": 105
    },
    "id": "ONXJAm_I3BMH",
    "outputId": "0dc010be-d353-42f5-e518-d449dc2b815c"
   },
   "outputs": [
    {
     "name": "stdout",
     "output_type": "stream",
     "text": [
      "0 ----- 0\n",
      "1 ----- 1\n",
      "2 ----- 2\n",
      "3 ----- 3\n",
      "4 ----- 4\n"
     ]
    }
   ],
   "source": [
    "for i in range(5):\n",
    "  print('{} ----- {}'.format(i, A[i]))"
   ]
  },
  {
   "cell_type": "code",
   "execution_count": null,
   "metadata": {},
   "outputs": [],
   "source": [
    "## 구구단을 작성"
   ]
  },
  {
   "cell_type": "code",
   "execution_count": null,
   "metadata": {
    "colab": {
     "base_uri": "https://localhost:8080/",
     "height": 175
    },
    "id": "Ib1-llYV3iUI",
    "outputId": "142af53f-c478-4006-93b6-15062a6983dc"
   },
   "outputs": [
    {
     "name": "stdout",
     "output_type": "stream",
     "text": [
      "4 x 0 = 0\n",
      "4 x 1 = 4\n",
      "4 x 2 = 8\n",
      "4 x 3 = 12\n",
      "4 x 4 = 16\n",
      "4 x 5 = 20\n",
      "4 x 6 = 24\n",
      "4 x 7 = 28\n",
      "4 x 8 = 32\n"
     ]
    }
   ],
   "source": [
    "for i in range(9):\n",
    "  print('{} x {} = {}'.format(4, i, 4*i))"
   ]
  },
  {
   "cell_type": "markdown",
   "metadata": {
    "id": "CEcihK_v315L"
   },
   "source": [
    "####**Operator**"
   ]
  },
  {
   "cell_type": "code",
   "execution_count": null,
   "metadata": {
    "colab": {
     "base_uri": "https://localhost:8080/",
     "height": 70
    },
    "id": "d8J5yoWP37de",
    "outputId": "e0dfb211-95ee-4911-ef92-30d4eef6fad2"
   },
   "outputs": [
    {
     "name": "stdout",
     "output_type": "stream",
     "text": [
      "(1, 2, 3, 1, 2, 3, 1, 2, 3)\n",
      "[1, 2, 3, 1, 2, 3, 1, 2, 3]\n",
      "HelloHelloHello\n"
     ]
    }
   ],
   "source": [
    "print((1,2,3) * 3)\n",
    "print([1,2,3] * 3)\n",
    "print(\"Hello\" * 3)"
   ]
  },
  {
   "cell_type": "markdown",
   "metadata": {
    "id": "MBj8rXDb4NFC"
   },
   "source": [
    "####**Containers**"
   ]
  },
  {
   "cell_type": "code",
   "execution_count": null,
   "metadata": {
    "colab": {
     "base_uri": "https://localhost:8080/",
     "height": 52
    },
    "id": "eCWZE8Nt4RNP",
    "outputId": "41297251-c495-4d96-9921-14b39045015c"
   },
   "outputs": [
    {
     "name": "stdout",
     "output_type": "stream",
     "text": [
      "January\n",
      "index of 7 ==> August\n"
     ]
    }
   ],
   "source": [
    "months = ('January', 'February', 'March', 'April', 'May', 'June','July', 'August', 'September', 'Octorber', 'November', 'December')\n",
    "\n",
    "print(months[0])\n",
    "print(\"index of 7 ==>\", months[7])"
   ]
  },
  {
   "cell_type": "code",
   "execution_count": null,
   "metadata": {
    "colab": {
     "base_uri": "https://localhost:8080/",
     "height": 228
    },
    "id": "eGAqWLqi5J4V",
    "outputId": "cfa7c9af-453e-4fd8-bd22-ea3529cb3e1e"
   },
   "outputs": [
    {
     "name": "stdout",
     "output_type": "stream",
     "text": [
      "January\n",
      "February\n",
      "March\n",
      "April\n",
      "May\n",
      "June\n",
      "July\n",
      "August\n",
      "September\n",
      "Octorber\n",
      "November\n",
      "December\n"
     ]
    }
   ],
   "source": [
    "for item in months:\n",
    "  print(item)"
   ]
  },
  {
   "cell_type": "code",
   "execution_count": null,
   "metadata": {
    "colab": {
     "base_uri": "https://localhost:8080/",
     "height": 140
    },
    "id": "7A271CF35QRW",
    "outputId": "f3c073f9-05fd-43f5-fe1d-9c5dd11216e1"
   },
   "outputs": [
    {
     "name": "stdout",
     "output_type": "stream",
     "text": [
      "('john', 32, (2, 3, 4, 5), 'hello')\n",
      "(2, 3, 4, 5)\n",
      "3\n",
      "('john', 32)\n",
      "((2, 3, 4, 5), 'hello')\n",
      "hello\n",
      "(2, 3, 4, 5)\n"
     ]
    }
   ],
   "source": [
    "t = ('john', 32, (2,3,4,5), 'hello')\n",
    "print(t)\n",
    "print(t[2])\n",
    "print(t[2][1])\n",
    "print(t[:2])\n",
    "print(t[2:])\n",
    "\n",
    "print(t[-1])\n",
    "print(t[-2])"
   ]
  },
  {
   "cell_type": "markdown",
   "metadata": {
    "id": "SOKlGV2d5r6b"
   },
   "source": [
    "####**List**"
   ]
  },
  {
   "cell_type": "code",
   "execution_count": null,
   "metadata": {
    "colab": {
     "base_uri": "https://localhost:8080/",
     "height": 34
    },
    "id": "ZaKs_xD15v5V",
    "outputId": "39641b0e-eb28-4377-d720-9b0e3c265ba1"
   },
   "outputs": [
    {
     "name": "stdout",
     "output_type": "stream",
     "text": [
      "['hallym', 1, 3.141572, 'hello']\n"
     ]
    }
   ],
   "source": [
    "li = ['hallym', 1, 3.141572, 'hello']\n",
    "print(li)"
   ]
  },
  {
   "cell_type": "code",
   "execution_count": null,
   "metadata": {
    "colab": {
     "base_uri": "https://localhost:8080/",
     "height": 34
    },
    "id": "i-NpW6d75-Ss",
    "outputId": "b1d6c1c1-2ee4-4523-a992-e358242bfe98"
   },
   "outputs": [
    {
     "name": "stdout",
     "output_type": "stream",
     "text": [
      "['hallym', 45, 3.141572, 'hello']\n"
     ]
    }
   ],
   "source": [
    "li[1] = 45\n",
    "print(li)"
   ]
  },
  {
   "cell_type": "code",
   "execution_count": null,
   "metadata": {
    "colab": {
     "base_uri": "https://localhost:8080/",
     "height": 34
    },
    "id": "ew3g0qWE6DUC",
    "outputId": "83be5e07-0520-4aaf-aa5f-edf4156f7d94"
   },
   "outputs": [
    {
     "name": "stdout",
     "output_type": "stream",
     "text": [
      "['hallym', 45, 3.141572, 'hello', 'September']\n"
     ]
    }
   ],
   "source": [
    "li.append('September')\n",
    "print(li)"
   ]
  },
  {
   "cell_type": "code",
   "execution_count": null,
   "metadata": {
    "id": "mbA5cobB6K6_"
   },
   "outputs": [],
   "source": [
    "v = []"
   ]
  },
  {
   "cell_type": "code",
   "execution_count": null,
   "metadata": {
    "colab": {
     "base_uri": "https://localhost:8080/",
     "height": 70
    },
    "id": "mLas6pVJ6Nxz",
    "outputId": "c6aa67a9-3bd4-4cc7-dc82-7885defdabea"
   },
   "outputs": [
    {
     "name": "stdout",
     "output_type": "stream",
     "text": [
      "0 [0]\n",
      "1 [0, 5]\n",
      "2 [0, 5, 10]\n"
     ]
    }
   ],
   "source": [
    "for i in range(0,3):\n",
    "  v.append(i*5)\n",
    "  print(i, v)"
   ]
  },
  {
   "cell_type": "markdown",
   "metadata": {
    "id": "EUWk5LDn6YNH"
   },
   "source": [
    "####**+연산자**"
   ]
  },
  {
   "cell_type": "code",
   "execution_count": null,
   "metadata": {
    "colab": {
     "base_uri": "https://localhost:8080/",
     "height": 70
    },
    "id": "RqV4XpyV6b3_",
    "outputId": "777b2492-a569-4b22-ea80-125097dbdeb5"
   },
   "outputs": [
    {
     "name": "stdout",
     "output_type": "stream",
     "text": [
      "(1, 2, 3, 4, 5, 6)\n",
      "[1, 2, 3, 4, 5, 6]\n",
      "Hello World\n"
     ]
    }
   ],
   "source": [
    "print((1,2,3)+(4,5,6))\n",
    "print([1,2,3]+[4,5,6])\n",
    "print(\"Hello\" + \" \" + \"World\")"
   ]
  },
  {
   "cell_type": "markdown",
   "metadata": {
    "id": "1HnzETHP6yHw"
   },
   "source": [
    "####***연산자**"
   ]
  },
  {
   "cell_type": "code",
   "execution_count": null,
   "metadata": {
    "colab": {
     "base_uri": "https://localhost:8080/",
     "height": 52
    },
    "id": "FzKk0U-O65GS",
    "outputId": "70aadbe3-193c-47dd-c624-4630bda39253"
   },
   "outputs": [
    {
     "name": "stdout",
     "output_type": "stream",
     "text": [
      "<class 'float'>\n",
      "2.5 3.5 5.0 6.25\n"
     ]
    }
   ],
   "source": [
    "y = 2.5\n",
    "print(type(y))\n",
    "print(y, y + 1, y * 2, y ** 2)"
   ]
  },
  {
   "cell_type": "markdown",
   "metadata": {
    "id": "pUpe476x7GCI"
   },
   "source": [
    "####**Enumeration**"
   ]
  },
  {
   "cell_type": "code",
   "execution_count": null,
   "metadata": {
    "colab": {
     "base_uri": "https://localhost:8080/",
     "height": 70
    },
    "id": "orJep-h07KXy",
    "outputId": "1ee62be5-06be-4df3-a1a3-cebc94d48bd2"
   },
   "outputs": [
    {
     "name": "stdout",
     "output_type": "stream",
     "text": [
      "0 ---> 0\n",
      "1 ---> 5\n",
      "2 ---> 10\n"
     ]
    }
   ],
   "source": [
    "for i, val in enumerate(v):\n",
    "  print('{} ---> {}'.format(i, val))"
   ]
  },
  {
   "cell_type": "code",
   "execution_count": null,
   "metadata": {
    "colab": {
     "base_uri": "https://localhost:8080/",
     "height": 34
    },
    "id": "kuW82YcD7W5g",
    "outputId": "1235a79a-8856-46de-b988-21bae3e7a484"
   },
   "outputs": [
    {
     "name": "stdout",
     "output_type": "stream",
     "text": [
      "['A', 'B', 'C', '0', '1', '2', '3']\n"
     ]
    }
   ],
   "source": [
    "v2 = [ 'A', 'B','C', '0','1','2','3']\n",
    "print(v2)"
   ]
  },
  {
   "cell_type": "code",
   "execution_count": null,
   "metadata": {
    "colab": {
     "base_uri": "https://localhost:8080/",
     "height": 140
    },
    "id": "AGi18i7z7iK_",
    "outputId": "36eb1628-5f46-4562-b858-ceb8fa31de79"
   },
   "outputs": [
    {
     "name": "stdout",
     "output_type": "stream",
     "text": [
      "0 ---> A\n",
      "1 ---> B\n",
      "2 ---> C\n",
      "3 ---> 0\n",
      "4 ---> 1\n",
      "5 ---> 2\n",
      "6 ---> 3\n"
     ]
    }
   ],
   "source": [
    "for i, val in enumerate(v2):\n",
    "  print('{} ---> {}'.format(i, val))"
   ]
  },
  {
   "cell_type": "markdown",
   "metadata": {},
   "source": [
    "List comprehension(LC)"
   ]
  },
  {
   "cell_type": "code",
   "execution_count": 1,
   "metadata": {},
   "outputs": [],
   "source": [
    "squares = []\n",
    "for x in range(10):\n",
    "    squares.append(x**2)"
   ]
  },
  {
   "cell_type": "code",
   "execution_count": 3,
   "metadata": {},
   "outputs": [
    {
     "name": "stdout",
     "output_type": "stream",
     "text": [
      "[0, 1, 4, 9, 16, 25, 36, 49, 64, 81]\n"
     ]
    }
   ],
   "source": [
    "print(squares)"
   ]
  },
  {
   "cell_type": "code",
   "execution_count": 4,
   "metadata": {},
   "outputs": [
    {
     "name": "stdout",
     "output_type": "stream",
     "text": [
      "['바바', '보보']\n"
     ]
    }
   ],
   "source": [
    "word = '바보'\n",
    "print([c * 2 for c in word])"
   ]
  },
  {
   "cell_type": "code",
   "execution_count": 5,
   "metadata": {},
   "outputs": [],
   "source": [
    "A = [n for n in range(10) if n % 2 == 0]"
   ]
  },
  {
   "cell_type": "code",
   "execution_count": 6,
   "metadata": {},
   "outputs": [
    {
     "name": "stdout",
     "output_type": "stream",
     "text": [
      "[0, 2, 4, 6, 8]\n"
     ]
    }
   ],
   "source": [
    "print(A)"
   ]
  },
  {
   "cell_type": "markdown",
   "metadata": {},
   "source": [
    "Lambda"
   ]
  },
  {
   "cell_type": "code",
   "execution_count": 7,
   "metadata": {},
   "outputs": [],
   "source": [
    "def jegob(x):\n",
    "    return x**2"
   ]
  },
  {
   "cell_type": "code",
   "execution_count": 8,
   "metadata": {},
   "outputs": [],
   "source": [
    "g = lambda x: x**2"
   ]
  },
  {
   "cell_type": "code",
   "execution_count": 9,
   "metadata": {},
   "outputs": [
    {
     "data": {
      "text/plain": [
       "49"
      ]
     },
     "execution_count": 9,
     "metadata": {},
     "output_type": "execute_result"
    }
   ],
   "source": [
    "g(7)"
   ]
  },
  {
   "cell_type": "code",
   "execution_count": 10,
   "metadata": {},
   "outputs": [
    {
     "name": "stdout",
     "output_type": "stream",
     "text": [
      "64\n"
     ]
    }
   ],
   "source": [
    "print(g(8))"
   ]
  },
  {
   "cell_type": "code",
   "execution_count": 11,
   "metadata": {},
   "outputs": [
    {
     "name": "stdout",
     "output_type": "stream",
     "text": [
      "81\n"
     ]
    }
   ],
   "source": [
    "print(g(9))"
   ]
  },
  {
   "cell_type": "code",
   "execution_count": 12,
   "metadata": {},
   "outputs": [],
   "source": [
    "f = lambda x, y: x + y"
   ]
  },
  {
   "cell_type": "code",
   "execution_count": 13,
   "metadata": {},
   "outputs": [
    {
     "data": {
      "text/plain": [
       "5"
      ]
     },
     "execution_count": 13,
     "metadata": {},
     "output_type": "execute_result"
    }
   ],
   "source": [
    "f(2, 3)"
   ]
  }
 ],
 "metadata": {
  "colab": {
   "collapsed_sections": [],
   "name": "HW1_20172701_강호준.ipynb",
   "provenance": []
  },
  "kernelspec": {
   "display_name": "Python 3",
   "language": "python",
   "name": "python3"
  },
  "language_info": {
   "codemirror_mode": {
    "name": "ipython",
    "version": 3
   },
   "file_extension": ".py",
   "mimetype": "text/x-python",
   "name": "python",
   "nbconvert_exporter": "python",
   "pygments_lexer": "ipython3",
   "version": "3.6.9"
  }
 },
 "nbformat": 4,
 "nbformat_minor": 1
}
