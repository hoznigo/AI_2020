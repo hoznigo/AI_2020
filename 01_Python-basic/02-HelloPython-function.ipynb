{
 "cells": [
  {
   "cell_type": "markdown",
   "metadata": {
    "id": "3RuE03rY8TJc"
   },
   "source": [
    "####**Python tutorial #2**\n",
    "\n"
   ]
  },
  {
   "cell_type": "code",
   "execution_count": null,
   "metadata": {
    "id": "g3zwS7F68A5k"
   },
   "outputs": [],
   "source": [
    "def hello():\n",
    "  print(\"Hello World\")"
   ]
  },
  {
   "cell_type": "code",
   "execution_count": null,
   "metadata": {
    "colab": {
     "base_uri": "https://localhost:8080/",
     "height": 34
    },
    "id": "kGHLfHRj8k7K",
    "outputId": "39a3273e-8691-4fc6-92d5-566c6097866e"
   },
   "outputs": [
    {
     "name": "stdout",
     "output_type": "stream",
     "text": [
      "Hello World\n"
     ]
    }
   ],
   "source": [
    "hello()"
   ]
  },
  {
   "cell_type": "code",
   "execution_count": null,
   "metadata": {
    "id": "kcxtr1iQ8nTP"
   },
   "outputs": [],
   "source": [
    "def hello(object):\n",
    "  print(\"Hello \" + object + \"!\")"
   ]
  },
  {
   "cell_type": "code",
   "execution_count": null,
   "metadata": {
    "colab": {
     "base_uri": "https://localhost:8080/",
     "height": 34
    },
    "id": "WwmY-f7S8xCy",
    "outputId": "fe50fc75-81f3-46be-c70e-1ba448cb51e4"
   },
   "outputs": [
    {
     "name": "stdout",
     "output_type": "stream",
     "text": [
      "Hello cat!\n"
     ]
    }
   ],
   "source": [
    "hello(\"cat\")"
   ]
  },
  {
   "cell_type": "code",
   "execution_count": null,
   "metadata": {
    "id": "UVhsaH_c80SC"
   },
   "outputs": [],
   "source": [
    "def mySum(a, b):\n",
    "  return a+b"
   ]
  },
  {
   "cell_type": "code",
   "execution_count": null,
   "metadata": {
    "colab": {
     "base_uri": "https://localhost:8080/",
     "height": 34
    },
    "id": "QCxtjHR59Dri",
    "outputId": "da3623f0-7038-4325-cbbc-cbf319622710"
   },
   "outputs": [
    {
     "name": "stdout",
     "output_type": "stream",
     "text": [
      "5\n"
     ]
    }
   ],
   "source": [
    "c = mySum(2, 3)\n",
    "print(c)"
   ]
  },
  {
   "cell_type": "code",
   "execution_count": null,
   "metadata": {
    "id": "taBV_j2q9KTh"
   },
   "outputs": [],
   "source": [
    "class Man:\n",
    "  def __init__(self, name):\n",
    "    self.name = name\n",
    "    print(\"Initialized!\")\n",
    "  def hello(self):\n",
    "    print(\"Hello \" + self.name + \" !\")\n",
    "\n",
    "  def goodbye(self):\n",
    "    print(\"Good-bye \" + self.name + \" !\")"
   ]
  },
  {
   "cell_type": "code",
   "execution_count": null,
   "metadata": {
    "colab": {
     "base_uri": "https://localhost:8080/",
     "height": 34
    },
    "id": "rCSpgkxD91Am",
    "outputId": "abe08f33-d2bb-418e-a1fb-bfabc13e8447"
   },
   "outputs": [
    {
     "name": "stdout",
     "output_type": "stream",
     "text": [
      "Initialized!\n"
     ]
    }
   ],
   "source": [
    "m = Man(\"David\")"
   ]
  },
  {
   "cell_type": "code",
   "execution_count": null,
   "metadata": {
    "colab": {
     "base_uri": "https://localhost:8080/",
     "height": 34
    },
    "id": "K9w2bzob95eK",
    "outputId": "3d7bccdb-29f8-46a6-8540-c3698ea8fbd0"
   },
   "outputs": [
    {
     "name": "stdout",
     "output_type": "stream",
     "text": [
      "Hello David !\n"
     ]
    }
   ],
   "source": [
    "m.hello()"
   ]
  },
  {
   "cell_type": "code",
   "execution_count": null,
   "metadata": {
    "colab": {
     "base_uri": "https://localhost:8080/",
     "height": 34
    },
    "id": "bHidnlTb9-tk",
    "outputId": "338937c6-47d8-48bc-fbd3-bf377c29e11e"
   },
   "outputs": [
    {
     "name": "stdout",
     "output_type": "stream",
     "text": [
      "Good-bye David !\n"
     ]
    }
   ],
   "source": [
    "m.goodbye()"
   ]
  },
  {
   "cell_type": "code",
   "execution_count": null,
   "metadata": {
    "colab": {
     "base_uri": "https://localhost:8080/",
     "height": 34
    },
    "id": "LpP5-i9xCrdN",
    "outputId": "f7af36c4-de86-477f-bb3b-163378cebb49"
   },
   "outputs": [
    {
     "name": "stdout",
     "output_type": "stream",
     "text": [
      "sample_data\n"
     ]
    }
   ],
   "source": [
    "!ls"
   ]
  },
  {
   "cell_type": "code",
   "execution_count": null,
   "metadata": {
    "colab": {
     "base_uri": "https://localhost:8080/",
     "height": 70
    },
    "id": "yDsKS2YhCzOs",
    "outputId": "c7e854ff-dbd7-42e3-8fb2-afa1b8206eca"
   },
   "outputs": [
    {
     "name": "stdout",
     "output_type": "stream",
     "text": [
      "anscombe.json\t\t      mnist_test.csv\n",
      "california_housing_test.csv   mnist_train_small.csv\n",
      "california_housing_train.csv  README.md\n"
     ]
    }
   ],
   "source": [
    "!ls sample_data"
   ]
  },
  {
   "cell_type": "code",
   "execution_count": null,
   "metadata": {
    "colab": {
     "base_uri": "https://localhost:8080/",
     "height": 34
    },
    "id": "xydfhxJzDFdp",
    "outputId": "704a8c81-c00f-4a3c-839f-04326f6e8838"
   },
   "outputs": [
    {
     "name": "stdout",
     "output_type": "stream",
     "text": [
      "/content\n"
     ]
    }
   ],
   "source": [
    "!pwd"
   ]
  },
  {
   "cell_type": "code",
   "execution_count": null,
   "metadata": {
    "colab": {
     "base_uri": "https://localhost:8080/",
     "height": 1000
    },
    "id": "fUCFEbIvDOeN",
    "outputId": "2383cc72-ad30-433c-8270-9cc93ca73452"
   },
   "outputs": [
    {
     "name": "stdout",
     "output_type": "stream",
     "text": [
      "Reading package lists... Done\n",
      "Building dependency tree       \n",
      "Reading state information... Done\n",
      "pandoc is already the newest version (1.19.2.4~dfsg-1build4).\n",
      "pandoc set to manually installed.\n",
      "The following package was automatically installed and is no longer required:\n",
      "  libnvidia-common-440\n",
      "Use 'sudo apt autoremove' to remove it.\n",
      "The following additional packages will be installed:\n",
      "  fonts-droid-fallback fonts-lato fonts-lmodern fonts-noto-mono fonts-texgyre\n",
      "  javascript-common libcupsfilters1 libcupsimage2 libgs9 libgs9-common\n",
      "  libijs-0.35 libjbig2dec0 libjs-jquery libkpathsea6 libpotrace0 libptexenc1\n",
      "  libruby2.5 libsynctex1 libtexlua52 libtexluajit2 libzzip-0-13 lmodern\n",
      "  poppler-data preview-latex-style rake ruby ruby-did-you-mean ruby-minitest\n",
      "  ruby-net-telnet ruby-power-assert ruby-test-unit ruby2.5\n",
      "  rubygems-integration t1utils tex-common tex-gyre texlive-base\n",
      "  texlive-binaries texlive-fonts-recommended texlive-latex-base\n",
      "  texlive-latex-extra texlive-latex-recommended texlive-pictures\n",
      "  texlive-plain-generic tipa\n",
      "Suggested packages:\n",
      "  fonts-noto apache2 | lighttpd | httpd poppler-utils ghostscript\n",
      "  fonts-japanese-mincho | fonts-ipafont-mincho fonts-japanese-gothic\n",
      "  | fonts-ipafont-gothic fonts-arphic-ukai fonts-arphic-uming fonts-nanum ri\n",
      "  ruby-dev bundler debhelper gv | postscript-viewer perl-tk xpdf-reader\n",
      "  | pdf-viewer texlive-fonts-recommended-doc texlive-latex-base-doc\n",
      "  python-pygments icc-profiles libfile-which-perl\n",
      "  libspreadsheet-parseexcel-perl texlive-latex-extra-doc\n",
      "  texlive-latex-recommended-doc texlive-pstricks dot2tex prerex ruby-tcltk\n",
      "  | libtcltk-ruby texlive-pictures-doc vprerex\n",
      "The following NEW packages will be installed:\n",
      "  fonts-droid-fallback fonts-lato fonts-lmodern fonts-noto-mono fonts-texgyre\n",
      "  javascript-common libcupsfilters1 libcupsimage2 libgs9 libgs9-common\n",
      "  libijs-0.35 libjbig2dec0 libjs-jquery libkpathsea6 libpotrace0 libptexenc1\n",
      "  libruby2.5 libsynctex1 libtexlua52 libtexluajit2 libzzip-0-13 lmodern\n",
      "  poppler-data preview-latex-style rake ruby ruby-did-you-mean ruby-minitest\n",
      "  ruby-net-telnet ruby-power-assert ruby-test-unit ruby2.5\n",
      "  rubygems-integration t1utils tex-common tex-gyre texlive texlive-base\n",
      "  texlive-binaries texlive-fonts-recommended texlive-latex-base\n",
      "  texlive-latex-extra texlive-latex-recommended texlive-pictures\n",
      "  texlive-plain-generic texlive-xetex tipa\n",
      "0 upgraded, 47 newly installed, 0 to remove and 39 not upgraded.\n",
      "Need to get 146 MB of archives.\n",
      "After this operation, 460 MB of additional disk space will be used.\n",
      "Get:1 http://archive.ubuntu.com/ubuntu bionic/main amd64 fonts-droid-fallback all 1:6.0.1r16-1.1 [1,805 kB]\n",
      "Get:2 http://archive.ubuntu.com/ubuntu bionic/main amd64 fonts-lato all 2.0-2 [2,698 kB]\n",
      "Get:3 http://archive.ubuntu.com/ubuntu bionic/main amd64 poppler-data all 0.4.8-2 [1,479 kB]\n",
      "Get:4 http://archive.ubuntu.com/ubuntu bionic/main amd64 tex-common all 6.09 [33.0 kB]\n",
      "Get:5 http://archive.ubuntu.com/ubuntu bionic/main amd64 fonts-lmodern all 2.004.5-3 [4,551 kB]\n",
      "Get:6 http://archive.ubuntu.com/ubuntu bionic/main amd64 fonts-noto-mono all 20171026-2 [75.5 kB]\n",
      "Get:7 http://archive.ubuntu.com/ubuntu bionic/universe amd64 fonts-texgyre all 20160520-1 [8,761 kB]\n",
      "Get:8 http://archive.ubuntu.com/ubuntu bionic/main amd64 javascript-common all 11 [6,066 B]\n",
      "Get:9 http://archive.ubuntu.com/ubuntu bionic-updates/main amd64 libcupsfilters1 amd64 1.20.2-0ubuntu3.1 [108 kB]\n",
      "Get:10 http://archive.ubuntu.com/ubuntu bionic-updates/main amd64 libcupsimage2 amd64 2.2.7-1ubuntu2.8 [18.6 kB]\n",
      "Get:11 http://archive.ubuntu.com/ubuntu bionic/main amd64 libijs-0.35 amd64 0.35-13 [15.5 kB]\n",
      "Get:12 http://archive.ubuntu.com/ubuntu bionic/main amd64 libjbig2dec0 amd64 0.13-6 [55.9 kB]\n",
      "Get:13 http://archive.ubuntu.com/ubuntu bionic-updates/main amd64 libgs9-common all 9.26~dfsg+0-0ubuntu0.18.04.13 [5,092 kB]\n",
      "Get:14 http://archive.ubuntu.com/ubuntu bionic-updates/main amd64 libgs9 amd64 9.26~dfsg+0-0ubuntu0.18.04.13 [2,263 kB]\n",
      "Get:15 http://archive.ubuntu.com/ubuntu bionic/main amd64 libjs-jquery all 3.2.1-1 [152 kB]\n",
      "Get:16 http://archive.ubuntu.com/ubuntu bionic-updates/main amd64 libkpathsea6 amd64 2017.20170613.44572-8ubuntu0.1 [54.9 kB]\n",
      "Get:17 http://archive.ubuntu.com/ubuntu bionic/main amd64 libpotrace0 amd64 1.14-2 [17.4 kB]\n",
      "Get:18 http://archive.ubuntu.com/ubuntu bionic-updates/main amd64 libptexenc1 amd64 2017.20170613.44572-8ubuntu0.1 [34.5 kB]\n",
      "Get:19 http://archive.ubuntu.com/ubuntu bionic/main amd64 rubygems-integration all 1.11 [4,994 B]\n",
      "Get:20 http://archive.ubuntu.com/ubuntu bionic-updates/main amd64 ruby2.5 amd64 2.5.1-1ubuntu1.6 [48.6 kB]\n",
      "Get:21 http://archive.ubuntu.com/ubuntu bionic/main amd64 ruby amd64 1:2.5.1 [5,712 B]\n",
      "Get:22 http://archive.ubuntu.com/ubuntu bionic-updates/main amd64 rake all 12.3.1-1ubuntu0.1 [44.9 kB]\n",
      "Get:23 http://archive.ubuntu.com/ubuntu bionic/main amd64 ruby-did-you-mean all 1.2.0-2 [9,700 B]\n",
      "Get:24 http://archive.ubuntu.com/ubuntu bionic/main amd64 ruby-minitest all 5.10.3-1 [38.6 kB]\n",
      "Get:25 http://archive.ubuntu.com/ubuntu bionic/main amd64 ruby-net-telnet all 0.1.1-2 [12.6 kB]\n",
      "Get:26 http://archive.ubuntu.com/ubuntu bionic/main amd64 ruby-power-assert all 0.3.0-1 [7,952 B]\n",
      "Get:27 http://archive.ubuntu.com/ubuntu bionic/main amd64 ruby-test-unit all 3.2.5-1 [61.1 kB]\n",
      "Get:28 http://archive.ubuntu.com/ubuntu bionic-updates/main amd64 libruby2.5 amd64 2.5.1-1ubuntu1.6 [3,069 kB]\n",
      "Get:29 http://archive.ubuntu.com/ubuntu bionic-updates/main amd64 libsynctex1 amd64 2017.20170613.44572-8ubuntu0.1 [41.4 kB]\n",
      "Get:30 http://archive.ubuntu.com/ubuntu bionic-updates/main amd64 libtexlua52 amd64 2017.20170613.44572-8ubuntu0.1 [91.2 kB]\n",
      "Get:31 http://archive.ubuntu.com/ubuntu bionic-updates/main amd64 libtexluajit2 amd64 2017.20170613.44572-8ubuntu0.1 [230 kB]\n",
      "Get:32 http://archive.ubuntu.com/ubuntu bionic-updates/main amd64 libzzip-0-13 amd64 0.13.62-3.1ubuntu0.18.04.1 [26.0 kB]\n",
      "Get:33 http://archive.ubuntu.com/ubuntu bionic/main amd64 lmodern all 2.004.5-3 [9,631 kB]\n",
      "Get:34 http://archive.ubuntu.com/ubuntu bionic/main amd64 preview-latex-style all 11.91-1ubuntu1 [185 kB]\n",
      "Get:35 http://archive.ubuntu.com/ubuntu bionic/main amd64 t1utils amd64 1.41-2 [56.0 kB]\n",
      "Get:36 http://archive.ubuntu.com/ubuntu bionic/universe amd64 tex-gyre all 20160520-1 [4,998 kB]\n",
      "Get:37 http://archive.ubuntu.com/ubuntu bionic-updates/main amd64 texlive-binaries amd64 2017.20170613.44572-8ubuntu0.1 [8,179 kB]\n",
      "Get:38 http://archive.ubuntu.com/ubuntu bionic/main amd64 texlive-base all 2017.20180305-1 [18.7 MB]\n",
      "Get:39 http://archive.ubuntu.com/ubuntu bionic/universe amd64 texlive-fonts-recommended all 2017.20180305-1 [5,262 kB]\n",
      "Get:40 http://archive.ubuntu.com/ubuntu bionic/main amd64 texlive-latex-base all 2017.20180305-1 [951 kB]\n",
      "Get:41 http://archive.ubuntu.com/ubuntu bionic/main amd64 texlive-latex-recommended all 2017.20180305-1 [14.9 MB]\n",
      "Get:42 http://archive.ubuntu.com/ubuntu bionic/universe amd64 texlive all 2017.20180305-1 [14.4 kB]\n",
      "Get:43 http://archive.ubuntu.com/ubuntu bionic/universe amd64 texlive-pictures all 2017.20180305-1 [4,026 kB]\n",
      "Get:44 http://archive.ubuntu.com/ubuntu bionic/universe amd64 texlive-latex-extra all 2017.20180305-2 [10.6 MB]\n",
      "Get:45 http://archive.ubuntu.com/ubuntu bionic/universe amd64 texlive-plain-generic all 2017.20180305-2 [23.6 MB]\n",
      "Get:46 http://archive.ubuntu.com/ubuntu bionic/universe amd64 tipa all 2:1.3-20 [2,978 kB]\n",
      "Get:47 http://archive.ubuntu.com/ubuntu bionic/universe amd64 texlive-xetex all 2017.20180305-1 [10.7 MB]\n",
      "Fetched 146 MB in 6s (23.3 MB/s)\n",
      "debconf: unable to initialize frontend: Dialog\n",
      "debconf: (No usable dialog-like program is installed, so the dialog based frontend cannot be used. at /usr/share/perl5/Debconf/FrontEnd/Dialog.pm line 76, <> line 47.)\n",
      "debconf: falling back to frontend: Readline\n",
      "debconf: unable to initialize frontend: Readline\n",
      "debconf: (This frontend requires a controlling tty.)\n",
      "debconf: falling back to frontend: Teletype\n",
      "dpkg-preconfigure: unable to re-open stdin: \n",
      "Selecting previously unselected package fonts-droid-fallback.\n",
      "(Reading database ... 144579 files and directories currently installed.)\n",
      "Preparing to unpack .../00-fonts-droid-fallback_1%3a6.0.1r16-1.1_all.deb ...\n",
      "Unpacking fonts-droid-fallback (1:6.0.1r16-1.1) ...\n",
      "Selecting previously unselected package fonts-lato.\n",
      "Preparing to unpack .../01-fonts-lato_2.0-2_all.deb ...\n",
      "Unpacking fonts-lato (2.0-2) ...\n",
      "Selecting previously unselected package poppler-data.\n",
      "Preparing to unpack .../02-poppler-data_0.4.8-2_all.deb ...\n",
      "Unpacking poppler-data (0.4.8-2) ...\n",
      "Selecting previously unselected package tex-common.\n",
      "Preparing to unpack .../03-tex-common_6.09_all.deb ...\n",
      "Unpacking tex-common (6.09) ...\n",
      "Selecting previously unselected package fonts-lmodern.\n",
      "Preparing to unpack .../04-fonts-lmodern_2.004.5-3_all.deb ...\n",
      "Unpacking fonts-lmodern (2.004.5-3) ...\n",
      "Selecting previously unselected package fonts-noto-mono.\n",
      "Preparing to unpack .../05-fonts-noto-mono_20171026-2_all.deb ...\n",
      "Unpacking fonts-noto-mono (20171026-2) ...\n",
      "Selecting previously unselected package fonts-texgyre.\n",
      "Preparing to unpack .../06-fonts-texgyre_20160520-1_all.deb ...\n",
      "Unpacking fonts-texgyre (20160520-1) ...\n",
      "Selecting previously unselected package javascript-common.\n",
      "Preparing to unpack .../07-javascript-common_11_all.deb ...\n",
      "Unpacking javascript-common (11) ...\n",
      "Selecting previously unselected package libcupsfilters1:amd64.\n",
      "Preparing to unpack .../08-libcupsfilters1_1.20.2-0ubuntu3.1_amd64.deb ...\n",
      "Unpacking libcupsfilters1:amd64 (1.20.2-0ubuntu3.1) ...\n",
      "Selecting previously unselected package libcupsimage2:amd64.\n",
      "Preparing to unpack .../09-libcupsimage2_2.2.7-1ubuntu2.8_amd64.deb ...\n",
      "Unpacking libcupsimage2:amd64 (2.2.7-1ubuntu2.8) ...\n",
      "Selecting previously unselected package libijs-0.35:amd64.\n",
      "Preparing to unpack .../10-libijs-0.35_0.35-13_amd64.deb ...\n",
      "Unpacking libijs-0.35:amd64 (0.35-13) ...\n",
      "Selecting previously unselected package libjbig2dec0:amd64.\n",
      "Preparing to unpack .../11-libjbig2dec0_0.13-6_amd64.deb ...\n",
      "Unpacking libjbig2dec0:amd64 (0.13-6) ...\n",
      "Selecting previously unselected package libgs9-common.\n",
      "Preparing to unpack .../12-libgs9-common_9.26~dfsg+0-0ubuntu0.18.04.13_all.deb ...\n",
      "Unpacking libgs9-common (9.26~dfsg+0-0ubuntu0.18.04.13) ...\n",
      "Selecting previously unselected package libgs9:amd64.\n",
      "Preparing to unpack .../13-libgs9_9.26~dfsg+0-0ubuntu0.18.04.13_amd64.deb ...\n",
      "Unpacking libgs9:amd64 (9.26~dfsg+0-0ubuntu0.18.04.13) ...\n",
      "Selecting previously unselected package libjs-jquery.\n",
      "Preparing to unpack .../14-libjs-jquery_3.2.1-1_all.deb ...\n",
      "Unpacking libjs-jquery (3.2.1-1) ...\n",
      "Selecting previously unselected package libkpathsea6:amd64.\n",
      "Preparing to unpack .../15-libkpathsea6_2017.20170613.44572-8ubuntu0.1_amd64.deb ...\n",
      "Unpacking libkpathsea6:amd64 (2017.20170613.44572-8ubuntu0.1) ...\n",
      "Selecting previously unselected package libpotrace0.\n",
      "Preparing to unpack .../16-libpotrace0_1.14-2_amd64.deb ...\n",
      "Unpacking libpotrace0 (1.14-2) ...\n",
      "Selecting previously unselected package libptexenc1:amd64.\n",
      "Preparing to unpack .../17-libptexenc1_2017.20170613.44572-8ubuntu0.1_amd64.deb ...\n",
      "Unpacking libptexenc1:amd64 (2017.20170613.44572-8ubuntu0.1) ...\n",
      "Selecting previously unselected package rubygems-integration.\n",
      "Preparing to unpack .../18-rubygems-integration_1.11_all.deb ...\n",
      "Unpacking rubygems-integration (1.11) ...\n",
      "Selecting previously unselected package ruby2.5.\n",
      "Preparing to unpack .../19-ruby2.5_2.5.1-1ubuntu1.6_amd64.deb ...\n",
      "Unpacking ruby2.5 (2.5.1-1ubuntu1.6) ...\n",
      "Selecting previously unselected package ruby.\n",
      "Preparing to unpack .../20-ruby_1%3a2.5.1_amd64.deb ...\n",
      "Unpacking ruby (1:2.5.1) ...\n",
      "Selecting previously unselected package rake.\n",
      "Preparing to unpack .../21-rake_12.3.1-1ubuntu0.1_all.deb ...\n",
      "Unpacking rake (12.3.1-1ubuntu0.1) ...\n",
      "Selecting previously unselected package ruby-did-you-mean.\n",
      "Preparing to unpack .../22-ruby-did-you-mean_1.2.0-2_all.deb ...\n",
      "Unpacking ruby-did-you-mean (1.2.0-2) ...\n",
      "Selecting previously unselected package ruby-minitest.\n",
      "Preparing to unpack .../23-ruby-minitest_5.10.3-1_all.deb ...\n",
      "Unpacking ruby-minitest (5.10.3-1) ...\n",
      "Selecting previously unselected package ruby-net-telnet.\n",
      "Preparing to unpack .../24-ruby-net-telnet_0.1.1-2_all.deb ...\n",
      "Unpacking ruby-net-telnet (0.1.1-2) ...\n",
      "Selecting previously unselected package ruby-power-assert.\n",
      "Preparing to unpack .../25-ruby-power-assert_0.3.0-1_all.deb ...\n",
      "Unpacking ruby-power-assert (0.3.0-1) ...\n",
      "Selecting previously unselected package ruby-test-unit.\n",
      "Preparing to unpack .../26-ruby-test-unit_3.2.5-1_all.deb ...\n",
      "Unpacking ruby-test-unit (3.2.5-1) ...\n",
      "Selecting previously unselected package libruby2.5:amd64.\n",
      "Preparing to unpack .../27-libruby2.5_2.5.1-1ubuntu1.6_amd64.deb ...\n",
      "Unpacking libruby2.5:amd64 (2.5.1-1ubuntu1.6) ...\n",
      "Selecting previously unselected package libsynctex1:amd64.\n",
      "Preparing to unpack .../28-libsynctex1_2017.20170613.44572-8ubuntu0.1_amd64.deb ...\n",
      "Unpacking libsynctex1:amd64 (2017.20170613.44572-8ubuntu0.1) ...\n",
      "Selecting previously unselected package libtexlua52:amd64.\n",
      "Preparing to unpack .../29-libtexlua52_2017.20170613.44572-8ubuntu0.1_amd64.deb ...\n",
      "Unpacking libtexlua52:amd64 (2017.20170613.44572-8ubuntu0.1) ...\n",
      "Selecting previously unselected package libtexluajit2:amd64.\n",
      "Preparing to unpack .../30-libtexluajit2_2017.20170613.44572-8ubuntu0.1_amd64.deb ...\n",
      "Unpacking libtexluajit2:amd64 (2017.20170613.44572-8ubuntu0.1) ...\n",
      "Selecting previously unselected package libzzip-0-13:amd64.\n",
      "Preparing to unpack .../31-libzzip-0-13_0.13.62-3.1ubuntu0.18.04.1_amd64.deb ...\n",
      "Unpacking libzzip-0-13:amd64 (0.13.62-3.1ubuntu0.18.04.1) ...\n",
      "Selecting previously unselected package lmodern.\n",
      "Preparing to unpack .../32-lmodern_2.004.5-3_all.deb ...\n",
      "Unpacking lmodern (2.004.5-3) ...\n",
      "Selecting previously unselected package preview-latex-style.\n",
      "Preparing to unpack .../33-preview-latex-style_11.91-1ubuntu1_all.deb ...\n",
      "Unpacking preview-latex-style (11.91-1ubuntu1) ...\n",
      "Selecting previously unselected package t1utils.\n",
      "Preparing to unpack .../34-t1utils_1.41-2_amd64.deb ...\n",
      "Unpacking t1utils (1.41-2) ...\n",
      "Selecting previously unselected package tex-gyre.\n",
      "Preparing to unpack .../35-tex-gyre_20160520-1_all.deb ...\n",
      "Unpacking tex-gyre (20160520-1) ...\n",
      "Selecting previously unselected package texlive-binaries.\n",
      "Preparing to unpack .../36-texlive-binaries_2017.20170613.44572-8ubuntu0.1_amd64.deb ...\n",
      "Unpacking texlive-binaries (2017.20170613.44572-8ubuntu0.1) ...\n",
      "Selecting previously unselected package texlive-base.\n",
      "Preparing to unpack .../37-texlive-base_2017.20180305-1_all.deb ...\n",
      "Unpacking texlive-base (2017.20180305-1) ...\n",
      "Selecting previously unselected package texlive-fonts-recommended.\n",
      "Preparing to unpack .../38-texlive-fonts-recommended_2017.20180305-1_all.deb ...\n",
      "Unpacking texlive-fonts-recommended (2017.20180305-1) ...\n",
      "Selecting previously unselected package texlive-latex-base.\n",
      "Preparing to unpack .../39-texlive-latex-base_2017.20180305-1_all.deb ...\n",
      "Unpacking texlive-latex-base (2017.20180305-1) ...\n",
      "Selecting previously unselected package texlive-latex-recommended.\n",
      "Preparing to unpack .../40-texlive-latex-recommended_2017.20180305-1_all.deb ...\n",
      "Unpacking texlive-latex-recommended (2017.20180305-1) ...\n",
      "Selecting previously unselected package texlive.\n",
      "Preparing to unpack .../41-texlive_2017.20180305-1_all.deb ...\n",
      "Unpacking texlive (2017.20180305-1) ...\n",
      "Selecting previously unselected package texlive-pictures.\n",
      "Preparing to unpack .../42-texlive-pictures_2017.20180305-1_all.deb ...\n",
      "Unpacking texlive-pictures (2017.20180305-1) ...\n",
      "Selecting previously unselected package texlive-latex-extra.\n",
      "Preparing to unpack .../43-texlive-latex-extra_2017.20180305-2_all.deb ...\n",
      "Unpacking texlive-latex-extra (2017.20180305-2) ...\n",
      "Selecting previously unselected package texlive-plain-generic.\n",
      "Preparing to unpack .../44-texlive-plain-generic_2017.20180305-2_all.deb ...\n",
      "Unpacking texlive-plain-generic (2017.20180305-2) ...\n",
      "Selecting previously unselected package tipa.\n",
      "Preparing to unpack .../45-tipa_2%3a1.3-20_all.deb ...\n",
      "Unpacking tipa (2:1.3-20) ...\n",
      "Selecting previously unselected package texlive-xetex.\n",
      "Preparing to unpack .../46-texlive-xetex_2017.20180305-1_all.deb ...\n",
      "Unpacking texlive-xetex (2017.20180305-1) ...\n",
      "Setting up libgs9-common (9.26~dfsg+0-0ubuntu0.18.04.13) ...\n",
      "Setting up libkpathsea6:amd64 (2017.20170613.44572-8ubuntu0.1) ...\n",
      "Setting up libjs-jquery (3.2.1-1) ...\n",
      "Setting up libtexlua52:amd64 (2017.20170613.44572-8ubuntu0.1) ...\n",
      "Setting up fonts-droid-fallback (1:6.0.1r16-1.1) ...\n",
      "Setting up libsynctex1:amd64 (2017.20170613.44572-8ubuntu0.1) ...\n",
      "Setting up libptexenc1:amd64 (2017.20170613.44572-8ubuntu0.1) ...\n",
      "Setting up tex-common (6.09) ...\n",
      "debconf: unable to initialize frontend: Dialog\n",
      "debconf: (No usable dialog-like program is installed, so the dialog based frontend cannot be used. at /usr/share/perl5/Debconf/FrontEnd/Dialog.pm line 76.)\n",
      "debconf: falling back to frontend: Readline\n",
      "update-language: texlive-base not installed and configured, doing nothing!\n",
      "Setting up poppler-data (0.4.8-2) ...\n",
      "Setting up tex-gyre (20160520-1) ...\n",
      "Setting up preview-latex-style (11.91-1ubuntu1) ...\n",
      "Setting up fonts-texgyre (20160520-1) ...\n",
      "Setting up fonts-noto-mono (20171026-2) ...\n",
      "Setting up fonts-lato (2.0-2) ...\n",
      "Setting up libcupsfilters1:amd64 (1.20.2-0ubuntu3.1) ...\n",
      "Setting up libcupsimage2:amd64 (2.2.7-1ubuntu2.8) ...\n",
      "Setting up libjbig2dec0:amd64 (0.13-6) ...\n",
      "Setting up ruby-did-you-mean (1.2.0-2) ...\n",
      "Setting up t1utils (1.41-2) ...\n",
      "Setting up ruby-net-telnet (0.1.1-2) ...\n",
      "Setting up libijs-0.35:amd64 (0.35-13) ...\n",
      "Setting up rubygems-integration (1.11) ...\n",
      "Setting up libpotrace0 (1.14-2) ...\n",
      "Setting up javascript-common (11) ...\n",
      "Setting up ruby-minitest (5.10.3-1) ...\n",
      "Setting up libzzip-0-13:amd64 (0.13.62-3.1ubuntu0.18.04.1) ...\n",
      "Setting up libgs9:amd64 (9.26~dfsg+0-0ubuntu0.18.04.13) ...\n",
      "Setting up libtexluajit2:amd64 (2017.20170613.44572-8ubuntu0.1) ...\n",
      "Setting up fonts-lmodern (2.004.5-3) ...\n",
      "Setting up ruby-power-assert (0.3.0-1) ...\n",
      "Setting up texlive-binaries (2017.20170613.44572-8ubuntu0.1) ...\n",
      "update-alternatives: using /usr/bin/xdvi-xaw to provide /usr/bin/xdvi.bin (xdvi.bin) in auto mode\n",
      "update-alternatives: using /usr/bin/bibtex.original to provide /usr/bin/bibtex (bibtex) in auto mode\n",
      "Setting up texlive-base (2017.20180305-1) ...\n",
      "mktexlsr: Updating /var/lib/texmf/ls-R-TEXLIVEDIST... \n",
      "mktexlsr: Updating /var/lib/texmf/ls-R-TEXMFMAIN... \n",
      "mktexlsr: Updating /var/lib/texmf/ls-R... \n",
      "mktexlsr: Done.\n",
      "tl-paper: setting paper size for dvips to a4: /var/lib/texmf/dvips/config/config-paper.ps\n",
      "tl-paper: setting paper size for dvipdfmx to a4: /var/lib/texmf/dvipdfmx/dvipdfmx-paper.cfg\n",
      "tl-paper: setting paper size for xdvi to a4: /var/lib/texmf/xdvi/XDvi-paper\n",
      "tl-paper: setting paper size for pdftex to a4: /var/lib/texmf/tex/generic/config/pdftexconfig.tex\n",
      "debconf: unable to initialize frontend: Dialog\n",
      "debconf: (No usable dialog-like program is installed, so the dialog based frontend cannot be used. at /usr/share/perl5/Debconf/FrontEnd/Dialog.pm line 76.)\n",
      "debconf: falling back to frontend: Readline\n",
      "Setting up texlive-fonts-recommended (2017.20180305-1) ...\n",
      "Setting up texlive-plain-generic (2017.20180305-2) ...\n",
      "Setting up texlive-latex-base (2017.20180305-1) ...\n",
      "Setting up lmodern (2.004.5-3) ...\n",
      "Setting up texlive-latex-recommended (2017.20180305-1) ...\n",
      "Setting up texlive-pictures (2017.20180305-1) ...\n",
      "Setting up tipa (2:1.3-20) ...\n",
      "Regenerating '/var/lib/texmf/fmtutil.cnf-DEBIAN'... done.\n",
      "Regenerating '/var/lib/texmf/fmtutil.cnf-TEXLIVEDIST'... done.\n",
      "update-fmtutil has updated the following file(s):\n",
      "\t/var/lib/texmf/fmtutil.cnf-DEBIAN\n",
      "\t/var/lib/texmf/fmtutil.cnf-TEXLIVEDIST\n",
      "If you want to activate the changes in the above file(s),\n",
      "you should run fmtutil-sys or fmtutil.\n",
      "Setting up texlive (2017.20180305-1) ...\n",
      "Setting up texlive-latex-extra (2017.20180305-2) ...\n",
      "Setting up texlive-xetex (2017.20180305-1) ...\n",
      "Setting up ruby2.5 (2.5.1-1ubuntu1.6) ...\n",
      "Setting up ruby (1:2.5.1) ...\n",
      "Setting up ruby-test-unit (3.2.5-1) ...\n",
      "Setting up rake (12.3.1-1ubuntu0.1) ...\n",
      "Setting up libruby2.5:amd64 (2.5.1-1ubuntu1.6) ...\n",
      "Processing triggers for mime-support (3.60ubuntu1) ...\n",
      "Processing triggers for libc-bin (2.27-3ubuntu1) ...\n",
      "/sbin/ldconfig.real: /usr/local/lib/python3.6/dist-packages/ideep4py/lib/libmkldnn.so.0 is not a symbolic link\n",
      "\n",
      "Processing triggers for man-db (2.8.3-2ubuntu0.1) ...\n",
      "Processing triggers for fontconfig (2.12.6-0ubuntu2) ...\n",
      "Processing triggers for tex-common (6.09) ...\n",
      "debconf: unable to initialize frontend: Dialog\n",
      "debconf: (No usable dialog-like program is installed, so the dialog based frontend cannot be used. at /usr/share/perl5/Debconf/FrontEnd/Dialog.pm line 76.)\n",
      "debconf: falling back to frontend: Readline\n",
      "Running updmap-sys. This may take some time... done.\n",
      "Running mktexlsr /var/lib/texmf ... done.\n",
      "Building format(s) --all.\n",
      "\tThis may take some time... done.\n"
     ]
    }
   ],
   "source": [
    "#!sudo apt install pandoc texlive texlive-xetex"
   ]
  },
  {
   "cell_type": "code",
   "execution_count": null,
   "metadata": {
    "colab": {
     "base_uri": "https://localhost:8080/",
     "height": 125
    },
    "id": "KDO86lXREBR0",
    "outputId": "50ea84c9-b079-4aab-bd71-5000a0286ecb"
   },
   "outputs": [
    {
     "name": "stdout",
     "output_type": "stream",
     "text": [
      "Go to this URL in a browser: https://accounts.google.com/o/oauth2/auth?client_id=947318989803-6bn6qk8qdgf4n4g3pfee6491hc0brc4i.apps.googleusercontent.com&redirect_uri=urn%3aietf%3awg%3aoauth%3a2.0%3aoob&scope=email%20https%3a%2f%2fwww.googleapis.com%2fauth%2fdocs.test%20https%3a%2f%2fwww.googleapis.com%2fauth%2fdrive%20https%3a%2f%2fwww.googleapis.com%2fauth%2fdrive.photos.readonly%20https%3a%2f%2fwww.googleapis.com%2fauth%2fpeopleapi.readonly&response_type=code\n",
      "\n",
      "Enter your authorization code:\n",
      "4/4AE2wn2TlHEpWjfrKPUO9T1008jNmRlFfE5vjfXGkM8PhxxsBKeW8fM\n",
      "Mounted at /content/drive\n"
     ]
    }
   ],
   "source": [
    "from google.colab import drive\n",
    "drive.mount(\"/content/drive\")"
   ]
  },
  {
   "cell_type": "code",
   "execution_count": null,
   "metadata": {
    "colab": {
     "base_uri": "https://localhost:8080/",
     "height": 34
    },
    "id": "w4KVuCQaEaTR",
    "outputId": "a3dda22d-fcd5-4fe7-d6b4-78213df6d46a"
   },
   "outputs": [
    {
     "name": "stdout",
     "output_type": "stream",
     "text": [
      "drive  sample_data\n"
     ]
    }
   ],
   "source": [
    "!ls"
   ]
  },
  {
   "cell_type": "code",
   "execution_count": null,
   "metadata": {
    "colab": {
     "base_uri": "https://localhost:8080/",
     "height": 34
    },
    "id": "K6nlyVSHEfyY",
    "outputId": "2971c761-9063-4156-e37d-5e4b1d3a366c"
   },
   "outputs": [
    {
     "name": "stdout",
     "output_type": "stream",
     "text": [
      "'My Drive'\n"
     ]
    }
   ],
   "source": [
    "!ls drive"
   ]
  },
  {
   "cell_type": "code",
   "execution_count": null,
   "metadata": {
    "colab": {
     "base_uri": "https://localhost:8080/",
     "height": 52
    },
    "id": "oWeVSWvZEkGu",
    "outputId": "58c3b03d-7a3e-4366-e1b5-5a74c2b7e34e"
   },
   "outputs": [
    {
     "name": "stdout",
     "output_type": "stream",
     "text": [
      " 노래모음\t  'AI 2020 FALL'    'CAPSTONE 2020 FALL'   노래모음.zip\n",
      "'AI 2019 SPRING'  'AI 2020 SPRING'  'Colab Notebooks'\n"
     ]
    }
   ],
   "source": [
    "!ls drive/'My Drive'"
   ]
  },
  {
   "cell_type": "code",
   "execution_count": null,
   "metadata": {
    "colab": {
     "base_uri": "https://localhost:8080/",
     "height": 34
    },
    "id": "ke1kSlSqEuX0",
    "outputId": "9cbb712a-7f5f-4d6c-ac3f-012b0c98ab1d"
   },
   "outputs": [
    {
     "name": "stdout",
     "output_type": "stream",
     "text": [
      "HW1_20172701_강호준.ipynb  HW2_20172701_강호준.ipynb\n"
     ]
    }
   ],
   "source": [
    "!ls drive/'My Drive'/'AI 2020 FALL'"
   ]
  },
  {
   "cell_type": "code",
   "execution_count": null,
   "metadata": {
    "colab": {
     "base_uri": "https://localhost:8080/",
     "height": 34
    },
    "id": "iEx222pQE3i9",
    "outputId": "3c7dfa2b-619e-44c0-87b8-bfe05da1a157"
   },
   "outputs": [
    {
     "name": "stdout",
     "output_type": "stream",
     "text": [
      "'drive/My Drive/AI 2020 FALL/HW1_20172701_강호준.ipynb'\n"
     ]
    }
   ],
   "source": [
    "!ls drive/'My Drive'/'AI 2020 FALL'/HW1_20172701_강호준.ipynb "
   ]
  },
  {
   "cell_type": "code",
   "execution_count": null,
   "metadata": {
    "colab": {
     "base_uri": "https://localhost:8080/",
     "height": 195
    },
    "id": "Yum7bFlyFAe4",
    "outputId": "68ceddf9-2d75-4c86-bf45-fa90e71d33a0"
   },
   "outputs": [
    {
     "name": "stdout",
     "output_type": "stream",
     "text": [
      "[NbConvertApp] WARNING | pattern u'drive/My Drive/AI 2020 FALL/HW1_20172701_\\u1100\\u1161\\u11bc\\u1112\\u1169\\u110c\\u116e\\u11ab.pdf' matched no files\n",
      "[NbConvertApp] Converting notebook drive/My Drive/AI 2020 FALL/HW1_20172701_강호준.ipynb to PDF\n",
      "[NbConvertApp] Writing 34661 bytes to ./notebook.tex\n",
      "[NbConvertApp] Building PDF\n",
      "[NbConvertApp] Running xelatex 3 times: [u'xelatex', u'./notebook.tex', '-quiet']\n",
      "[NbConvertApp] Running bibtex 1 time: [u'bibtex', u'./notebook']\n",
      "[NbConvertApp] WARNING | bibtex had problems, most likely because there were no citations\n",
      "[NbConvertApp] PDF successfully created\n",
      "[NbConvertApp] Writing 25231 bytes to drive/My Drive/AI 2020 FALL/HW1_20172701_강호준.pdf\n"
     ]
    }
   ],
   "source": [
    "!jupyter nbconvert --to PDF drive/'My Drive'/'AI 2020 FALL'/HW1_20172701_강호준.ipynb drive/'My Drive'/'AI 2020 FALL'/HW1_20172701_강호준.pdf"
   ]
  },
  {
   "cell_type": "code",
   "execution_count": null,
   "metadata": {
    "colab": {
     "base_uri": "https://localhost:8080/",
     "height": 195
    },
    "id": "Jts9jZ3lFiv4",
    "outputId": "ca1ddeba-57f1-4bac-d47d-c7ae328085b7"
   },
   "outputs": [
    {
     "name": "stdout",
     "output_type": "stream",
     "text": [
      "[NbConvertApp] WARNING | pattern u'drive/My Drive/AI 2020 FALL/HW2_20172701_\\u1100\\u1161\\u11bc\\u1112\\u1169\\u110c\\u116e\\u11ab.pdf' matched no files\n",
      "[NbConvertApp] Converting notebook drive/My Drive/AI 2020 FALL/HW2_20172701_강호준.ipynb to PDF\n",
      "[NbConvertApp] Writing 52798 bytes to ./notebook.tex\n",
      "[NbConvertApp] Building PDF\n",
      "[NbConvertApp] Running xelatex 3 times: [u'xelatex', u'./notebook.tex', '-quiet']\n",
      "[NbConvertApp] Running bibtex 1 time: [u'bibtex', u'./notebook']\n",
      "[NbConvertApp] WARNING | bibtex had problems, most likely because there were no citations\n",
      "[NbConvertApp] PDF successfully created\n",
      "[NbConvertApp] Writing 35416 bytes to drive/My Drive/AI 2020 FALL/HW2_20172701_강호준.pdf\n"
     ]
    }
   ],
   "source": [
    "!jupyter nbconvert --to PDF drive/'My Drive'/'AI 2020 FALL'/HW2_20172701_강호준.ipynb drive/'My Drive'/'AI 2020 FALL'/HW2_20172701_강호준.pdf"
   ]
  }
 ],
 "metadata": {
  "colab": {
   "collapsed_sections": [],
   "name": "HW2_20172701_강호준.ipynb",
   "provenance": []
  },
  "kernelspec": {
   "display_name": "Python 3",
   "language": "python",
   "name": "python3"
  },
  "language_info": {
   "codemirror_mode": {
    "name": "ipython",
    "version": 3
   },
   "file_extension": ".py",
   "mimetype": "text/x-python",
   "name": "python",
   "nbconvert_exporter": "python",
   "pygments_lexer": "ipython3",
   "version": "3.6.9"
  }
 },
 "nbformat": 4,
 "nbformat_minor": 1
}
